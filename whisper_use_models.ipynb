{
  "cells": [
    {
      "cell_type": "markdown",
      "metadata": {
        "id": "R0vlB3UujU5m"
      },
      "source": [
        "## **Compare Models**"
      ]
    },
    {
      "cell_type": "markdown",
      "metadata": {
        "id": "HhyRNA9sOqea"
      },
      "source": [
        "### **GPU Setup**"
      ]
    },
    {
      "cell_type": "code",
      "source": [
        "import os\n",
        "import torch"
      ],
      "metadata": {
        "id": "1cr0zAHIOz05"
      },
      "execution_count": 1,
      "outputs": []
    },
    {
      "cell_type": "code",
      "source": [
        "device = \"cuda\" if torch.cuda.is_available() else \"cpu\""
      ],
      "metadata": {
        "id": "_zR0l-7Wp_qS"
      },
      "execution_count": 2,
      "outputs": []
    },
    {
      "cell_type": "code",
      "source": [
        "gpu_info = !nvidia-smi\n",
        "gpu_info = '\\n'.join(gpu_info)\n",
        "if gpu_info.find('failed') >= 0:\n",
        "  print('Not connected to a GPU')\n",
        "else:\n",
        "  print(gpu_info)"
      ],
      "metadata": {
        "id": "vbFdDhigO10V",
        "outputId": "9d9ab4dc-d4e6-4816-805b-b20ef122412b",
        "colab": {
          "base_uri": "https://localhost:8080/"
        }
      },
      "execution_count": 3,
      "outputs": [
        {
          "output_type": "stream",
          "name": "stdout",
          "text": [
            "Tue Nov 19 13:53:53 2024       \n",
            "+---------------------------------------------------------------------------------------+\n",
            "| NVIDIA-SMI 535.104.05             Driver Version: 535.104.05   CUDA Version: 12.2     |\n",
            "|-----------------------------------------+----------------------+----------------------+\n",
            "| GPU  Name                 Persistence-M | Bus-Id        Disp.A | Volatile Uncorr. ECC |\n",
            "| Fan  Temp   Perf          Pwr:Usage/Cap |         Memory-Usage | GPU-Util  Compute M. |\n",
            "|                                         |                      |               MIG M. |\n",
            "|=========================================+======================+======================|\n",
            "|   0  NVIDIA A100-SXM4-40GB          Off | 00000000:00:04.0 Off |                    0 |\n",
            "| N/A   34C    P0              42W / 400W |      5MiB / 40960MiB |      0%      Default |\n",
            "|                                         |                      |             Disabled |\n",
            "+-----------------------------------------+----------------------+----------------------+\n",
            "                                                                                         \n",
            "+---------------------------------------------------------------------------------------+\n",
            "| Processes:                                                                            |\n",
            "|  GPU   GI   CI        PID   Type   Process name                            GPU Memory |\n",
            "|        ID   ID                                                             Usage      |\n",
            "|=======================================================================================|\n",
            "|  No running processes found                                                           |\n",
            "+---------------------------------------------------------------------------------------+\n"
          ]
        }
      ]
    },
    {
      "cell_type": "code",
      "source": [
        "# Tell the progam to use the GPU allocated to us by setting the env variable used by CUDA\n",
        "# Use the first GPU on your machine\n",
        "os.environ[\"CUDA_VISIBLE_DEVICES\"] = \"0\""
      ],
      "metadata": {
        "id": "al5ZcRK1O3AU"
      },
      "execution_count": 4,
      "outputs": []
    },
    {
      "cell_type": "markdown",
      "source": [
        "**User Action Required**\n",
        "- Select whisper version\n",
        "- Select checkpoint number\n",
        "- Select number of test examples"
      ],
      "metadata": {
        "id": "QJtuZooeYXVR"
      }
    },
    {
      "cell_type": "code",
      "source": [
        "whisper_ver = 'whisper-base'"
      ],
      "metadata": {
        "id": "RSy_yFGhYcpT"
      },
      "execution_count": 5,
      "outputs": []
    },
    {
      "cell_type": "code",
      "source": [
        "checkpoint_num = '2100'"
      ],
      "metadata": {
        "id": "n_CGhDLoZERq"
      },
      "execution_count": 6,
      "outputs": []
    },
    {
      "cell_type": "code",
      "source": [
        "num_test_examples = 600"
      ],
      "metadata": {
        "id": "LD1LYHo0Z7Ub"
      },
      "execution_count": 7,
      "outputs": []
    },
    {
      "cell_type": "markdown",
      "source": [
        "### **GoogleDrive Environment Setup**\n",
        "\n",
        "- Get stored model checkpoints"
      ],
      "metadata": {
        "id": "eDhFTouYO4kw"
      }
    },
    {
      "cell_type": "code",
      "source": [
        "from google.colab import drive\n",
        "google_drive_path = f'/content/drive/My Drive/{whisper_ver}-checkpoints'\n",
        "drive.mount('/content/drive')"
      ],
      "metadata": {
        "id": "1UYjxVxDO61Y",
        "outputId": "78532ac1-f16d-4c4a-b20e-af6f1728c2a8",
        "colab": {
          "base_uri": "https://localhost:8080/"
        }
      },
      "execution_count": 8,
      "outputs": [
        {
          "output_type": "stream",
          "name": "stdout",
          "text": [
            "Drive already mounted at /content/drive; to attempt to forcibly remount, call drive.mount(\"/content/drive\", force_remount=True).\n"
          ]
        }
      ]
    },
    {
      "cell_type": "markdown",
      "source": [
        "### **Load Dataset**"
      ],
      "metadata": {
        "id": "pfdusvuVPAPe"
      }
    },
    {
      "cell_type": "code",
      "source": [
        "!pip install datasets"
      ],
      "metadata": {
        "id": "7PQSsS8YPB0Q",
        "outputId": "dac7f94e-cd55-4522-9924-7a81403725aa",
        "colab": {
          "base_uri": "https://localhost:8080/"
        }
      },
      "execution_count": 9,
      "outputs": [
        {
          "output_type": "stream",
          "name": "stdout",
          "text": [
            "Requirement already satisfied: datasets in /usr/local/lib/python3.10/dist-packages (3.1.0)\n",
            "Requirement already satisfied: filelock in /usr/local/lib/python3.10/dist-packages (from datasets) (3.16.1)\n",
            "Requirement already satisfied: numpy>=1.17 in /usr/local/lib/python3.10/dist-packages (from datasets) (1.26.4)\n",
            "Requirement already satisfied: pyarrow>=15.0.0 in /usr/local/lib/python3.10/dist-packages (from datasets) (17.0.0)\n",
            "Requirement already satisfied: dill<0.3.9,>=0.3.0 in /usr/local/lib/python3.10/dist-packages (from datasets) (0.3.8)\n",
            "Requirement already satisfied: pandas in /usr/local/lib/python3.10/dist-packages (from datasets) (2.2.2)\n",
            "Requirement already satisfied: requests>=2.32.2 in /usr/local/lib/python3.10/dist-packages (from datasets) (2.32.3)\n",
            "Requirement already satisfied: tqdm>=4.66.3 in /usr/local/lib/python3.10/dist-packages (from datasets) (4.66.6)\n",
            "Requirement already satisfied: xxhash in /usr/local/lib/python3.10/dist-packages (from datasets) (3.5.0)\n",
            "Requirement already satisfied: multiprocess<0.70.17 in /usr/local/lib/python3.10/dist-packages (from datasets) (0.70.16)\n",
            "Requirement already satisfied: fsspec<=2024.9.0,>=2023.1.0 in /usr/local/lib/python3.10/dist-packages (from fsspec[http]<=2024.9.0,>=2023.1.0->datasets) (2024.9.0)\n",
            "Requirement already satisfied: aiohttp in /usr/local/lib/python3.10/dist-packages (from datasets) (3.11.1)\n",
            "Requirement already satisfied: huggingface-hub>=0.23.0 in /usr/local/lib/python3.10/dist-packages (from datasets) (0.26.2)\n",
            "Requirement already satisfied: packaging in /usr/local/lib/python3.10/dist-packages (from datasets) (24.2)\n",
            "Requirement already satisfied: pyyaml>=5.1 in /usr/local/lib/python3.10/dist-packages (from datasets) (6.0.2)\n",
            "Requirement already satisfied: aiohappyeyeballs>=2.3.0 in /usr/local/lib/python3.10/dist-packages (from aiohttp->datasets) (2.4.3)\n",
            "Requirement already satisfied: aiosignal>=1.1.2 in /usr/local/lib/python3.10/dist-packages (from aiohttp->datasets) (1.3.1)\n",
            "Requirement already satisfied: attrs>=17.3.0 in /usr/local/lib/python3.10/dist-packages (from aiohttp->datasets) (24.2.0)\n",
            "Requirement already satisfied: frozenlist>=1.1.1 in /usr/local/lib/python3.10/dist-packages (from aiohttp->datasets) (1.5.0)\n",
            "Requirement already satisfied: multidict<7.0,>=4.5 in /usr/local/lib/python3.10/dist-packages (from aiohttp->datasets) (6.1.0)\n",
            "Requirement already satisfied: propcache>=0.2.0 in /usr/local/lib/python3.10/dist-packages (from aiohttp->datasets) (0.2.0)\n",
            "Requirement already satisfied: yarl<2.0,>=1.17.0 in /usr/local/lib/python3.10/dist-packages (from aiohttp->datasets) (1.17.1)\n",
            "Requirement already satisfied: async-timeout<6.0,>=4.0 in /usr/local/lib/python3.10/dist-packages (from aiohttp->datasets) (4.0.3)\n",
            "Requirement already satisfied: typing-extensions>=3.7.4.3 in /usr/local/lib/python3.10/dist-packages (from huggingface-hub>=0.23.0->datasets) (4.12.2)\n",
            "Requirement already satisfied: charset-normalizer<4,>=2 in /usr/local/lib/python3.10/dist-packages (from requests>=2.32.2->datasets) (3.4.0)\n",
            "Requirement already satisfied: idna<4,>=2.5 in /usr/local/lib/python3.10/dist-packages (from requests>=2.32.2->datasets) (3.10)\n",
            "Requirement already satisfied: urllib3<3,>=1.21.1 in /usr/local/lib/python3.10/dist-packages (from requests>=2.32.2->datasets) (2.2.3)\n",
            "Requirement already satisfied: certifi>=2017.4.17 in /usr/local/lib/python3.10/dist-packages (from requests>=2.32.2->datasets) (2024.8.30)\n",
            "Requirement already satisfied: python-dateutil>=2.8.2 in /usr/local/lib/python3.10/dist-packages (from pandas->datasets) (2.8.2)\n",
            "Requirement already satisfied: pytz>=2020.1 in /usr/local/lib/python3.10/dist-packages (from pandas->datasets) (2024.2)\n",
            "Requirement already satisfied: tzdata>=2022.7 in /usr/local/lib/python3.10/dist-packages (from pandas->datasets) (2024.2)\n",
            "Requirement already satisfied: six>=1.5 in /usr/local/lib/python3.10/dist-packages (from python-dateutil>=2.8.2->pandas->datasets) (1.16.0)\n"
          ]
        }
      ]
    },
    {
      "cell_type": "code",
      "source": [
        "from datasets import load_dataset\n",
        "from IPython.display import Audio"
      ],
      "metadata": {
        "id": "_6Lw2nLVPEHS"
      },
      "execution_count": 10,
      "outputs": []
    },
    {
      "cell_type": "code",
      "source": [
        "dataset_repo_test = \"johnlohjy/imda_nsc_p3_same_closemic_train\"\n",
        "dataset_train = load_dataset(dataset_repo_test, split='train', streaming=True, trust_remote_code=True)"
      ],
      "metadata": {
        "id": "YU6XzpN1nUuf"
      },
      "execution_count": 11,
      "outputs": []
    },
    {
      "cell_type": "code",
      "source": [
        "dataset_train_iter = iter(dataset_train)"
      ],
      "metadata": {
        "id": "1NpRyuKYnZN2"
      },
      "execution_count": 12,
      "outputs": []
    },
    {
      "cell_type": "code",
      "source": [
        "train_example_1 = next(dataset_train_iter)"
      ],
      "metadata": {
        "id": "zggnA0sUncXz"
      },
      "execution_count": 13,
      "outputs": []
    },
    {
      "cell_type": "code",
      "source": [
        "train_example_1"
      ],
      "metadata": {
        "colab": {
          "base_uri": "https://localhost:8080/"
        },
        "id": "vBpXD3-onfVw",
        "outputId": "d4d0b3ae-17c3-4c92-f3bc-5a64943448ce"
      },
      "execution_count": 14,
      "outputs": [
        {
          "output_type": "execute_result",
          "data": {
            "text/plain": [
              "{'path': '../../dataset/train/waves/3000-1_11.wav',\n",
              " 'audio': {'path': '../../dataset/train/waves/3000-1_11.wav',\n",
              "  'array': array([-9.15527344e-05, -1.22070312e-04, -9.15527344e-05, ...,\n",
              "          3.05175781e-04,  3.05175781e-04,  2.44140625e-04]),\n",
              "  'sampling_rate': 16000},\n",
              " 'sentence': \"you know yeah she was from france so that's she shared with me about her culture lah so you know err she would show me around when she would when i would visit lah when i travel to france looking forward to that it's really not interesting generation gap what's the biggest similarity or difference between your generation and your parent's generation okay\"}"
            ]
          },
          "metadata": {},
          "execution_count": 14
        }
      ]
    },
    {
      "cell_type": "code",
      "source": [
        "dataset_repo_test = \"johnlohjy/imda_nsc_p3_same_closemic_test\"\n",
        "dataset_test = load_dataset(dataset_repo_test, split='test', streaming=True, trust_remote_code=True)"
      ],
      "metadata": {
        "id": "0RRVwcUkPEbq"
      },
      "execution_count": 15,
      "outputs": []
    },
    {
      "cell_type": "markdown",
      "source": [
        "### **Initialise Whisper Models**"
      ],
      "metadata": {
        "id": "2Lr4qKuAQUch"
      }
    },
    {
      "cell_type": "code",
      "source": [
        "!pip install -q bitsandbytes accelerate"
      ],
      "metadata": {
        "id": "wV-vxY2jQm4U"
      },
      "execution_count": 16,
      "outputs": []
    },
    {
      "cell_type": "code",
      "source": [
        "from transformers import WhisperForConditionalGeneration\n",
        "from transformers import WhisperProcessor"
      ],
      "metadata": {
        "id": "3IrDdyfzQZ9M"
      },
      "execution_count": 17,
      "outputs": []
    },
    {
      "cell_type": "code",
      "source": [
        "checkpoint_path = f'/content/drive/My Drive/{whisper_ver}-checkpoints/checkpoint-{checkpoint_num}'"
      ],
      "metadata": {
        "id": "VUOPuSOlQgbo"
      },
      "execution_count": 18,
      "outputs": []
    },
    {
      "cell_type": "code",
      "source": [
        "model = WhisperForConditionalGeneration.from_pretrained(checkpoint_path).to(device)\n",
        "model.config.use_cache = True\n",
        "processor = WhisperProcessor.from_pretrained(f\"openai/{whisper_ver}\", language=\"en\", task=\"transcribe\")"
      ],
      "metadata": {
        "id": "4vGxXb_rQT5P"
      },
      "execution_count": 19,
      "outputs": []
    },
    {
      "cell_type": "code",
      "source": [
        "model_org = WhisperForConditionalGeneration.from_pretrained(f\"openai/{whisper_ver}\", device_map=\"auto\").to(device)\n",
        "model_org.config.use_cache = True"
      ],
      "metadata": {
        "id": "7-e733ENo-Si"
      },
      "execution_count": 20,
      "outputs": []
    },
    {
      "cell_type": "code",
      "source": [
        "model_org_en = WhisperForConditionalGeneration.from_pretrained(f\"openai/{whisper_ver}.en\", device_map=\"auto\").to(device)\n",
        "model_org_en.config.use_cache = True\n",
        "model_org_en.config.forced_decoder_ids = processor.get_decoder_prompt_ids(\n",
        "    language=\"English\", task=\"transcribe\"\n",
        ")"
      ],
      "metadata": {
        "id": "dyNpzOP9rKHl"
      },
      "execution_count": 32,
      "outputs": []
    },
    {
      "cell_type": "code",
      "source": [
        "!pip install whisper"
      ],
      "metadata": {
        "colab": {
          "base_uri": "https://localhost:8080/"
        },
        "id": "i7OHCRn-vF6b",
        "outputId": "3fe5d26a-e532-49f9-f0e3-1d0e365bffb6"
      },
      "execution_count": 36,
      "outputs": [
        {
          "output_type": "stream",
          "name": "stdout",
          "text": [
            "Requirement already satisfied: whisper in /usr/local/lib/python3.10/dist-packages (1.1.10)\n",
            "Requirement already satisfied: six in /usr/local/lib/python3.10/dist-packages (from whisper) (1.16.0)\n"
          ]
        }
      ]
    },
    {
      "cell_type": "code",
      "source": [
        "from transformers import pipeline\n",
        "pipe = pipeline(\"automatic-speech-recognition\", model=\"openai/whisper-base.en\", device='cuda')"
      ],
      "metadata": {
        "id": "wRt8pJ15vAEq"
      },
      "execution_count": 40,
      "outputs": []
    },
    {
      "cell_type": "markdown",
      "source": [
        "### **Prepare Dataset for Whisper**"
      ],
      "metadata": {
        "id": "pkxzmMuAPLSb"
      }
    },
    {
      "cell_type": "code",
      "source": [
        "def prepare_dataset(batch):\n",
        "    # load audio data\n",
        "    audio = batch[\"audio\"]\n",
        "\n",
        "    # Perform feature extraction: Compute log-Mel input features from input audio array\n",
        "    # Use feature extractor to compute log-Mel spectrogram input features from 1D audio array\n",
        "    # Pre-process raw audio-inputs\n",
        "    batch[\"input_features\"] = processor.feature_extractor(audio[\"array\"], sampling_rate=audio[\"sampling_rate\"]).input_features[0]\n",
        "    # Perform tokenization: Encode target text to label ids\n",
        "    # Encode transcriptions to label ids through use of tokenizer\n",
        "    # Post-process model outputs to text format\n",
        "    batch[\"labels\"] = processor.tokenizer(batch[\"sentence\"]).input_ids\n",
        "    return batch"
      ],
      "metadata": {
        "id": "5Zpu39bOPNhw"
      },
      "execution_count": 22,
      "outputs": []
    },
    {
      "cell_type": "code",
      "source": [
        "dataset_test_processed = dataset_test.map(prepare_dataset, remove_columns=dataset_test.column_names)"
      ],
      "metadata": {
        "id": "mgqNR0VIPOTO"
      },
      "execution_count": 23,
      "outputs": []
    },
    {
      "cell_type": "markdown",
      "source": [
        "### **Run Generation**"
      ],
      "metadata": {
        "id": "cXQHkNkRlqyr"
      }
    },
    {
      "cell_type": "code",
      "source": [
        "import torch\n",
        "from IPython.display import Audio"
      ],
      "metadata": {
        "id": "S7VweJ19oEkl"
      },
      "execution_count": 24,
      "outputs": []
    },
    {
      "cell_type": "code",
      "source": [
        "def transcribe(model, example):\n",
        "    input_features = torch.tensor(example[\"input_features\"]).unsqueeze(0).to(device)\n",
        "    # Generate token IDs\n",
        "    generated_ids = model.generate(input_features)\n",
        "    # Decode token IDs to text\n",
        "    predicted_transcription = processor.tokenizer.decode(generated_ids[0], skip_special_tokens=True)\n",
        "    original_transcription = processor.tokenizer.decode(example[\"labels\"], skip_special_tokens=True)\n",
        "    print(f'The predicted transcription is: {predicted_transcription}')\n",
        "    print(f'The original transcription is: {original_transcription}')"
      ],
      "metadata": {
        "id": "1r44RvOInkf3"
      },
      "execution_count": 25,
      "outputs": []
    },
    {
      "cell_type": "code",
      "source": [
        "dataset_test_processed_iter_finetuned = iter(dataset_test_processed)"
      ],
      "metadata": {
        "id": "uhs0oFDNl28v"
      },
      "execution_count": 26,
      "outputs": []
    },
    {
      "cell_type": "code",
      "source": [
        "dataset_test_iter_original_en = iter(dataset_test)"
      ],
      "metadata": {
        "id": "kCOBhUvNu4RB"
      },
      "execution_count": 41,
      "outputs": []
    },
    {
      "cell_type": "code",
      "source": [
        "dataset_test_processed_iter_original = iter(dataset_test_processed)"
      ],
      "metadata": {
        "id": "_oYQ5OvLo0ZR"
      },
      "execution_count": 27,
      "outputs": []
    },
    {
      "cell_type": "code",
      "source": [
        "dataset_test_processed_iter_original_en = iter(dataset_test_processed)"
      ],
      "metadata": {
        "id": "vdvs8laesxHY"
      },
      "execution_count": 33,
      "outputs": []
    },
    {
      "cell_type": "code",
      "source": [
        "for i in range(10):\n",
        "  example = next(dataset_test_processed_iter_finetuned)\n",
        "  transcribe(model, example)\n",
        "  print(\"\")\n"
      ],
      "metadata": {
        "colab": {
          "base_uri": "https://localhost:8080/"
        },
        "id": "oQhNWKMjoctK",
        "outputId": "80f4e0a9-99df-4c3a-953a-d288e2504e58"
      },
      "execution_count": 29,
      "outputs": [
        {
          "output_type": "stream",
          "name": "stderr",
          "text": [
            "The attention mask is not set and cannot be inferred from input because pad token is same as eos token. As a consequence, you may observe unexpected behavior. Please pass your input's `attention_mask` to obtain reliable results.\n"
          ]
        },
        {
          "output_type": "stream",
          "name": "stdout",
          "text": [
            "The predicted transcription is: mm you can go first you guys are gonna stand here they're like wow this is a weird topic um singapore and malaysia are like you know brothers but not really brothers brothers on a on a tricky relationship you know what let's skip this topic next do i go do i go next okay heng suay what's the best worst thing best or worst thing that can happen to you in singapore\n",
            "The original transcription is: um you can go first you guys are going to stand here ah they are like wow this is a weird topic um singapore and malaysia are like you know brothers but not really brothers brothers on a on a tricky relationship you know what let's skip this topic next do i go do i go next okay heng suay what's the best worst thing best or worst thing that can happen to you in singapore\n",
            "\n",
            "The predicted transcription is: um when was last time i interacted with a foreigner last week i guess so just a person i met through an event and then i mean so i i brought her around lah like in singapore to you know like places like shimes and haji lane and and marina bay so\n",
            "The original transcription is: um when was the last time i interacted with a foreigner last week i guess so um just a person i met through an event and then i mean so i i brought her around lah like in singapore to you know like places like chijmes and haji lane and and marina bay so\n",
            "\n",
            "The predicted transcription is: yeah obviously to return the stuffs and you know not make a mess off the table not later the ground not later the floor just help them out yeah that's great i have points we have a vision for tomorrow we have a vision is that the song okay what's the one thing about singapore that should be preserved for the next generation oh this is a good question this is a good question yeah\n",
            "The original transcription is: ya obviously to return the stuffs and you know not make a mess all over the table not litter the ground not litter the floor just help them out yeah that's great i have points we have a vision for tomorrow we have a vision is that the song okay what's the one thing about singapore that should be preserved for the next generation oh this is a good question this is a good question yeah\n",
            "\n",
            "The predicted transcription is: it's the culture as little as people like to say that singapore doesn't have much of a culture it does do you agree what's what's your thoughts on that singapore's culture exactly yup mmhmm yes correct so okay on that point i would like to ask something a little bit more further so what's your would you say that you know what is actually happening is globalization or what right so like\n",
            "The original transcription is: it's the culture as little as people like to say that singapore doesn't have much of a culture it does do you agree what's what's your thoughts on that singapore's culture exactly yup uh huh yes correct so okay on that point i would like to ask something a little bit more further so what's your would you say that you know what is actually happening is globalization or right so like\n",
            "\n",
            "The predicted transcription is: most memorable um i mean i was in a police force lah so then obviously it's when attending to those suicidal cases so the most the most memorable i would say most impactful is actually when i attended um you know it's pretty common in singapore\n",
            "The original transcription is: most memorable um i mean i was in the police force lah so then obviously is when attending to those suicidal cases so the most the most memorable i would say most impactful was actually when i attended um you know is pretty common in singapore\n",
            "\n",
            "The predicted transcription is: weird event okay\n",
            "The original transcription is: weird event okay\n",
            "\n",
            "The predicted transcription is: she's very ya person with great humility ya she's what i call the true blue local girl with great talent treasure hunt if you could be a karung guni man what would you want to collect if you were to be a karung guni man wouldn't you have any choice in the first place this is a funny question let's go to next one\n",
            "The original transcription is: she's very yeah person with great humility yeah she is what i called the true blue local girl with great talents treasure hunt if you could be a karang guni man what would you want to collect if you were to be a karang guni man wouldn't you have any choice in the first place this is a funny question let's go to next one\n",
            "\n",
            "The predicted transcription is: oh but ya ya ya ya is there someone who became a millionaire from the ya okay cool ya ya my brother used to do that in singapore um ya ya that's cool i know somethings i prefer not to share\n",
            "The original transcription is: oh but ya ya ya ya is there someone who became a millionaire from where ya okay cool ya ya my brother used to do that in singapore um ya ya yeah it is cool you know some things i prefer not to share\n",
            "\n",
            "The predicted transcription is: yeah you know the other thing about i mean another topic that is really good that for development i mean apart from financial literacy i think will be mentality you know like so you know um such as having a growth mindset you know you know i mean we we are brought up in a society where\n",
            "The original transcription is: ya you know the other thing about i mean another topic that is really good that for development i mean the part from financially literacy i think it will be mentality you know like so you know um such as having a growth mind set you know you know i mean we we are brought up in a society where\n",
            "\n",
            "The predicted transcription is: we just kind of follow through the system you know get great marks get good marks and we and they ya of course definitely so but the thing is um they they do not strive to grow more than what is needed you know for many of them so actually you know learning is actually a life long journey and this sort of things concepts\n",
            "The original transcription is: we just kind of follow to the system you know get great marks get good marks and the we and they yeah of course definitely so but the thing is hmm they they do not strive to grow more than what is needed you know for many of them so actually you know learning is actually a lifelong jurney and this sort of things concepts\n",
            "\n"
          ]
        }
      ]
    },
    {
      "cell_type": "code",
      "source": [
        "for i in range(10):\n",
        "  example = next(dataset_test_iter_original_en)\n",
        "  predicted_transcription = pipe(example['audio']['array'])\n",
        "  original_transcription = example['sentence']\n",
        "  print(f'The predicted transcription is: {predicted_transcription[\"text\"]}')\n",
        "  print(f'The original transcription is: {original_transcription}')\n",
        "  print(\"\")"
      ],
      "metadata": {
        "colab": {
          "base_uri": "https://localhost:8080/"
        },
        "id": "ln8nCMi5vYPI",
        "outputId": "1cbeb0a7-83fa-449c-8aaf-4d20d55fe6c8"
      },
      "execution_count": 42,
      "outputs": [
        {
          "output_type": "stream",
          "name": "stderr",
          "text": [
            "/usr/local/lib/python3.10/dist-packages/transformers/models/whisper/generation_whisper.py:509: FutureWarning: The input name `inputs` is deprecated. Please make sure to use `input_features` instead.\n",
            "  warnings.warn(\n"
          ]
        },
        {
          "output_type": "stream",
          "name": "stdout",
          "text": [
            "The predicted transcription is:  You can go first. You guys are gonna stand here. They're like, wow, this is a weird topic. Singapore and Malaysia are like, you know, brothers, but not really brothers. Brothers on a tricky relationship. You know what, let's skip this topic. Next. Do I go next? Okay, Hing Sui, what's the best or worst thing that can happen to you in Singapore?\n",
            "The original transcription is: um you can go first you guys are going to stand here ah they are like wow this is a weird topic um singapore and malaysia are like you know brothers but not really brothers brothers on a on a tricky relationship you know what let's skip this topic next do i go do i go next okay heng suay what's the best worst thing best or worst thing that can happen to you in singapore\n",
            "\n",
            "The predicted transcription is:  When was last time I interacted with her for the last week I guess? So just a person I met through an event and then I mean so I brought her around like in Singapore to you know like places like Shimes and Haji Lin and and Mirina B So\n",
            "The original transcription is: um when was the last time i interacted with a foreigner last week i guess so um just a person i met through an event and then i mean so i i brought her around lah like in singapore to you know like places like chijmes and haji lane and and marina bay so\n",
            "\n",
            "The predicted transcription is:  Yeah. Obviously, to return the staffs and, you know, not make a mess over the table, not later the ground, not later the floor, just help them out. Yeah. That's great. I have points. We have a vision for tomorrow. We have a vision. Is that okay? What's the one thing about Singapore that should be preserved for the next generation? Oh, this is a good question. This is a good question. Yeah.\n",
            "The original transcription is: ya obviously to return the stuffs and you know not make a mess all over the table not litter the ground not litter the floor just help them out yeah that's great i have points we have a vision for tomorrow we have a vision is that the song okay what's the one thing about singapore that should be preserved for the next generation oh this is a good question this is a good question yeah\n",
            "\n",
            "The predicted transcription is:  It's the culture as little as people like to say that Singapore doesn't have much of a culture. It does. Do you agree? What's your thoughts on that Singapore's culture? Exactly. Yes. Correct. So, okay, on that point, I would like to ask something a little bit more further. So, what's your... Would you say that, you know, what is actually happening is globalization, right? So, like...\n",
            "The original transcription is: it's the culture as little as people like to say that singapore doesn't have much of a culture it does do you agree what's what's your thoughts on that singapore's culture exactly yup uh huh yes correct so okay on that point i would like to ask something a little bit more further so what's your would you say that you know what is actually happening is globalization or right so like\n",
            "\n",
            "The predicted transcription is:  most memorable I mean I was in the police force last so then obviously it's when attending to those suicidal cases so the most memorable I would say most impactful was actually when I attended you know it's pretty common in Singapore\n",
            "The original transcription is: most memorable um i mean i was in the police force lah so then obviously is when attending to those suicidal cases so the most the most memorable i would say most impactful was actually when i attended um you know is pretty common in singapore\n",
            "\n",
            "The predicted transcription is:  We at event. Okay.\n",
            "The original transcription is: weird event okay\n",
            "\n",
            "The predicted transcription is:  She's very... Yeah, I'll put some with grit humility. Yeah. She's what I call the true blue local girl with grit talents. Treasure hunt. If you could be a karung guni man, what would you want to collect? If you were to be a karung guni man, wouldn't you have any choice in the first place? This is a funny question. Let's go to the next one.\n",
            "The original transcription is: she's very yeah person with great humility yeah she is what i called the true blue local girl with great talents treasure hunt if you could be a karang guni man what would you want to collect if you were to be a karang guni man wouldn't you have any choice in the first place this is a funny question let's go to next one\n",
            "\n",
            "The predicted transcription is:  Oh, but... Yeah, yeah, yeah. Yeah, is that? Someone who became a millionaire from the... Yeah, okay. Cool. Yeah, yeah. My brother used to do that in Singapore. Yeah. Yeah, it is cool. You know, some things I prefer not to share.\n",
            "The original transcription is: oh but ya ya ya ya is there someone who became a millionaire from where ya okay cool ya ya my brother used to do that in singapore um ya ya yeah it is cool you know some things i prefer not to share\n",
            "\n",
            "The predicted transcription is:  Yeah. You know, the other thing about, I mean, another topic that is really good for development, I mean, apart from financial literacy, I think it'll be mentality. You know, like, so, you know, such as having a growth mindset, you know, you know, I mean, we are brought up in our society where\n",
            "The original transcription is: ya you know the other thing about i mean another topic that is really good that for development i mean the part from financially literacy i think it will be mentality you know like so you know um such as having a growth mind set you know you know i mean we we are brought up in a society where\n",
            "\n",
            "The predicted transcription is:  We just kind of follow through the system, you know, get great marks, get good marks. And we... Yeah, of course, definitely. So, but the thing is... They do not strive to grow more than what is needed, you know, for many of them. So, actually, you know, learning is actually a lifelong journey. And this sort of... things, concepts...\n",
            "The original transcription is: we just kind of follow to the system you know get great marks get good marks and the we and they yeah of course definitely so but the thing is hmm they they do not strive to grow more than what is needed you know for many of them so actually you know learning is actually a lifelong jurney and this sort of things concepts\n",
            "\n"
          ]
        }
      ]
    },
    {
      "cell_type": "code",
      "source": [
        "for i in range(10):\n",
        "  example = next(dataset_test_processed_iter_original)\n",
        "  transcribe(model_org, example)\n",
        "  print(\"\")"
      ],
      "metadata": {
        "colab": {
          "base_uri": "https://localhost:8080/"
        },
        "id": "R3Zli9cvpQt5",
        "outputId": "a34f1a67-55b7-4cb0-d1ea-502c25ac7c74"
      },
      "execution_count": 30,
      "outputs": [
        {
          "output_type": "stream",
          "name": "stderr",
          "text": [
            "Due to a bug fix in https://github.com/huggingface/transformers/pull/28687 transcription using a multilingual Whisper will default to language detection followed by transcription instead of translation to English.This might be a breaking change for your use case. If you want to instead always translate your audio to English, make sure to pass `language='en'`.\n",
            "Passing a tuple of `past_key_values` is deprecated and will be removed in Transformers v4.43.0. You should pass an instance of `EncoderDecoderCache` instead, e.g. `past_key_values=EncoderDecoderCache.from_legacy_cache(past_key_values)`.\n"
          ]
        },
        {
          "output_type": "stream",
          "name": "stdout",
          "text": [
            "The predicted transcription is:  Mereka boleh pergi? Mereka akan berhenti sini. Mereka suka, wow, ini adalah untuk berhenti. Singapore dan Malaysia berhenti berhenti berhenti berhenti berhenti berhenti berhenti berhenti berhenti berhenti berhenti berhenti berhenti berhenti berhenti berhenti berhenti berhenti berhenti berhenti berhenti berhenti berhenti berhenti berhenti berhenti berhenti berhenti berhenti berhenti berhenti berhenti berhenti berhenti berhenti berhenti berhenti berhenti berhenti berhenti berhenti berhenti berhenti berhenti berhenti berhenti berhenti berhenti berhenti berhenti berhenti berhenti berhenti berhenti berhenti berhenti berhenti berhenti berhenti berhenti berhenti berhenti berhenti berhenti berhenti berhenti berhenti berhenti berhenti berhenti berhenti berhenti berhenti berhenti berhenti berhenti berhenti berhenti berhenti berhenti berhenti berhenti berhenti berhenti berhenti berhenti berhenti berhenti berhenti berhenti berhenti berhenti berhenti berhenti berhenti berhenti berhenti berhenti berhenti berhenti berhenti berhenti berhenti berhenti berhenti berhenti berhenti berhenti berhenti berhenti berhenti berhenti berhenti berhenti berhenti berhenti berhenti berhenti berhenti berhenti berhenti berhenti berhenti berhenti berhenti berhenti berhenti berhenti berhenti berhenti berhenti berhenti berhenti berhenti berhenti berhenti berhenti ber\n",
            "The original transcription is: um you can go first you guys are going to stand here ah they are like wow this is a weird topic um singapore and malaysia are like you know brothers but not really brothers brothers on a on a tricky relationship you know what let's skip this topic next do i go do i go next okay heng suay what's the best worst thing best or worst thing that can happen to you in singapore\n",
            "\n",
            "The predicted transcription is:  When was last time I interacted with a foreigner last week, I guess? So, just a person I met through an event. And then... I mean, so I brought her around like in Singapore to places like... Shimes and Haji Lane and... and Murna Bay. So...\n",
            "The original transcription is: um when was the last time i interacted with a foreigner last week i guess so um just a person i met through an event and then i mean so i i brought her around lah like in singapore to you know like places like chijmes and haji lane and and marina bay so\n",
            "\n",
            "The predicted transcription is:  Ya. Ya. Ya. Ya. Ya. Ya. Ya. Ya. Ya. Ya. Ya. Ya. Ya. Ya. Ya. Ya. Ya. Ya. Ya. Ya. Ya. Ya. Ya. Ya. Ya. Ya. Ya. Ya. Ya. Ya. Ya. Ya. Ya. Ya. Ya. Ya. Ya. Ya. Ya. Ya. Ya. Ya. Ya. Ya. Ya. Ya. Ya. Ya. Ya. Ya. Ya. Ya. Ya. Ya. Ya. Ya. Ya. Ya. Ya. Ya. Ya. Ya. Ya. Ya. Ya. Ya. Ya. Ya. Ya. Ya. Ya. Ya. Ya. Ya. Ya. Ya. Ya. Ya. Ya. Ya. Ya. Ya. Ya. Ya. Ya. Ya. Ya. Ya. Ya. Ya. Ya. Ya. Ya. Ya. Ya. Ya. Ya. Ya. Ya. Ya. Ya. Ya. Ya. Ya. Ya. Ya. Ya. Ya. Ya. Ya. Ya. Ya. Ya. Ya. Ya. Ya. Ya. Ya. Ya. Ya. Ya. Ya. Ya. Ya. Ya. Ya. Ya. Ya. Ya. Ya. Ya. Ya. Ya. Ya. Ya. Ya. Ya. Ya. Ya. Ya. Ya. Ya. Ya. Ya. Ya. Ya. Ya. Ya. Ya. Ya. Ya. Ya. Ya. Ya. Ya. Ya. Ya. Ya. Ya. Ya. Ya. Ya. Ya. Ya. Ya. Ya. Ya. Ya. Ya. Ya. Ya. Ya. Ya. Ya. Ya. Ya. Ya. Ya. Ya. Ya. Ya. Ya. Ya. Ya. Ya. Ya. Ya. Ya. Ya. Ya. Ya. Ya. Ya. Ya. Ya. Ya. Ya. Ya. Ya. Ya. Ya. Ya. Ya. Ya. Ya. Ya. Ya. Ya. Ya. Ya. Ya. Ya. Ya. Ya. Ya. Ya. Ya. Ya. Ya. Ya. Ya. Ya.\n",
            "The original transcription is: ya obviously to return the stuffs and you know not make a mess all over the table not litter the ground not litter the floor just help them out yeah that's great i have points we have a vision for tomorrow we have a vision is that the song okay what's the one thing about singapore that should be preserved for the next generation oh this is a good question this is a good question yeah\n",
            "\n",
            "The predicted transcription is:  ...saya ada kawal-kawal yang orang suka beritahu... ...saya tak ada banyak kawal-kawal yang dia beritahu. Awak ingat? Apa yang saya beritahu? Kawal-kawal yang dia beritahu? Ya, ya. Ya, correct. Jadi, okey, pada masa itu... ...kawal saya nak beritahu sesuatu yang lebih berlaku. Jadi, apa yang awak cakap dengan apa yang sebenarnya berlalu? Globalisation, kan? Jadi,\n",
            "The original transcription is: it's the culture as little as people like to say that singapore doesn't have much of a culture it does do you agree what's what's your thoughts on that singapore's culture exactly yup uh huh yes correct so okay on that point i would like to ask something a little bit more further so what's your would you say that you know what is actually happening is globalization or right so like\n",
            "\n",
            "The predicted transcription is:  Mereka yang paling memorong... Saya rasa saya takkan berguna ini. Jadi, maksudnya, ia berguna untuk keadaan keadaan keadaan. Jadi, maksudnya... maksudnya... maksudnya, maksudnya, maksudnya, maksudnya, maksudnya, maksudnya, maksudnya, maksudnya, maksudnya, maksudnya, maksudnya, maksudnya, maksudnya, maksudnya, maksudnya, maksudnya, maksudnya, maksudnya, maksudnya, maksudnya, maksudnya, maksudnya, maksudnya, maksudnya, maksudnya, maksudnya, maksudnya, maksudnya, maksudnya, maksudnya, maksudnya, maksudnya, maksudnya, maksudnya, maksudnya, maksudnya, maksudnya, maksudnya, maksudnya, maksudnya, maksudnya, maksudnya, maksudnya, maksudnya, maksudnya, maksudnya, maksudnya, maksudnya, maksudnya, maksudnya, maksudnya, maksudnya, maksudnya, maksudnya, maksudnya, maksudnya, maksudnya, maksudnya, maksudnya, maksudnya, maksudnya, maksudnya, maksudnya, maksudnya, maksudnya, maksudnya, maksudnya, maksudnya, maksudnya, maksudnya, maksudnya, maksudnya, maksudnya, maksudnya, maksudnya, maksudnya, maksudnya, maksudnya, maksudnya, maksudnya, maksudnya, maksudnya, maksudnya, maksudnya, maksudnya, maksudnya, maksudnya, maksudnya, maksudnya, maksudnya, maksudnya, maksudnya, maksudnya, maksudnya, maksudnya, maksudnya, maksudnya, maksudnya, maksud\n",
            "The original transcription is: most memorable um i mean i was in the police force lah so then obviously is when attending to those suicidal cases so the most the most memorable i would say most impactful was actually when i attended um you know is pretty common in singapore\n",
            "\n",
            "The predicted transcription is:  We at event okay\n",
            "The original transcription is: weird event okay\n",
            "\n",
            "The predicted transcription is:  Dia sangat... Ya, ada orang dengan berhenti. Ya. Dia apa yang saya kena? True Blue, Lokong, Girl. Terus dengan berhenti. True Jangan. Kalau kamu boleh berhenti... Karung Gunni, apa yang kamu nak kakak? Kalau kamu nak berhenti, Karung Gunni, apa yang kamu nak kakakakakakakakakakakakakakakakakakakakakakakakakakakakakakakakakakakakakakakakakakakakakakakakakakakakakakakakakakakakakakakakakakakakakakakakakakakakakakakakakakakakakakakakakakakakakakakakakakakakakakakakakakakakakakakakakakakakakakakakakakakakakakakakakakakakakakakakakakakakakakakakakakakakakakakakakakakakakakakakakakakakakakakakakakakakakakakakakakakakakakakakakakakakakakakakakakakakakakakakakakakakakakakakakakakakakakakakakakakakakakakakakakakakakakakakakakakakakakakakakakakakakakakakakakakakakakakakakakakakakakakakakakakakakakakakakakakakakakakakakakakakakakakakakakakakakakakakakakakakakakakakakakakakakakakakakakakakakakakakakakakakakakakakakakakakakakakakakakakakakakakakakakakakakakakakakakakakakakakakakakakakakak\n",
            "The original transcription is: she's very yeah person with great humility yeah she is what i called the true blue local girl with great talents treasure hunt if you could be a karang guni man what would you want to collect if you were to be a karang guni man wouldn't you have any choice in the first place this is a funny question let's go to next one\n",
            "\n",
            "The predicted transcription is:  근데... 이게 뭐지? 제가 또 다른 거 만들어보니까요. 네, 오케이. 네, 근데 제가 지금 제가 지금... 제가 지금... 네, 그게 너무 좋네요. 제가 생각하는 거 아니었을 때\n",
            "The original transcription is: oh but ya ya ya ya is there someone who became a millionaire from where ya okay cool ya ya my brother used to do that in singapore um ya ya yeah it is cool you know some things i prefer not to share\n",
            "\n",
            "The predicted transcription is:  Ya. Ya tahu ada perkara lain. Saya rasa satu yang berlaku yang baik untuk bahawa bahawa saya rasa kembali dari penyelitari. Saya rasa akan berlaku. Ya tahu. Jadi, ya tahu, seperti hanya memiliki seorang kawasan yang memiliki. Ya tahu, ya tahu, saya rasa kita berlaku dalam sosiali\n",
            "The original transcription is: ya you know the other thing about i mean another topic that is really good that for development i mean the part from financially literacy i think it will be mentality you know like so you know um such as having a growth mind set you know you know i mean we we are brought up in a society where\n",
            "\n",
            "The predicted transcription is:  Kita hanya mencari ke sistem, kita takkan berguna, berguna, berguna. Dan kita, dan mereka, ya, ya, ya, ya, ya, ya, ya, ya, ya, ya, ya, ya, ya, ya, ya, ya, ya, ya, ya, ya, ya, ya, ya, ya, ya, ya, ya, ya, ya, ya, ya, ya, ya, ya, ya, ya, ya, ya, ya, ya, ya, ya, ya, ya, ya, ya, ya, ya, ya, ya, ya, ya, ya, ya, ya, ya, ya, ya, ya, ya, ya, ya, ya, ya, ya, ya, ya, ya, ya, ya, ya, ya, ya, ya, ya, ya, ya, ya, ya, ya, ya, ya, ya, ya, ya, ya, ya, ya, ya, ya, ya, ya, ya, ya, ya, ya, ya, ya, ya, ya, ya, ya, ya, ya, ya, ya, ya, ya, ya, ya, ya, ya, ya, ya, ya, ya, ya, ya, ya, ya, ya, ya, ya, ya, ya, ya, ya, ya, ya, ya, ya, ya, ya, ya, ya, ya, ya, ya, ya, ya, ya, ya, ya, ya, ya, ya, ya, ya, ya, ya, ya, ya, ya, ya, ya, ya, ya, ya, ya, ya, ya, ya, ya, ya, ya, ya, ya, ya, ya, ya, ya, ya, ya, ya, ya, ya, ya, ya, ya, ya, ya, ya, ya, ya, ya, ya, ya, ya, ya, ya, ya, ya, ya, ya, ya, ya, ya, ya, ya, ya, ya, ya, ya, ya, ya, ya, ya, ya\n",
            "The original transcription is: we just kind of follow to the system you know get great marks get good marks and the we and they yeah of course definitely so but the thing is hmm they they do not strive to grow more than what is needed you know for many of them so actually you know learning is actually a lifelong jurney and this sort of things concepts\n",
            "\n"
          ]
        }
      ]
    },
    {
      "cell_type": "code",
      "source": [
        "for i in range(10):\n",
        "  example = next(dataset_test_processed_iter_original_en)\n",
        "  transcribe(model_org_en, example)\n",
        "  print(\"\")"
      ],
      "metadata": {
        "colab": {
          "base_uri": "https://localhost:8080/"
        },
        "id": "0ENpcfCyoIMe",
        "outputId": "4107c4fb-c4f8-4501-df36-b6280b0ab83f"
      },
      "execution_count": 34,
      "outputs": [
        {
          "output_type": "stream",
          "name": "stdout",
          "text": [
            "The predicted transcription is: az G It dis.azano H νalth didn. Is There very, Harvey, your S a athletober.анд g landed H very,ad down,��,ink So An��.keep re a�ulation.az down part, thankel ved yourober. replace. key T It ver? translated, ring reasoni, partel s 10 can yo에ac G�orad lанд?\n",
            "The original transcription is: um you can go first you guys are going to stand here ah they are like wow this is a weird topic um singapore and malaysia are like you know brothers but not really brothers brothers on a on a tricky relationship you know what let's skip this topic next do i go do i go next okay heng suay what's the best worst thing best or worst thing that can happen to you in singapore\n",
            "\n",
            "The predicted transcription is:  8ill longass T 팔�ifberos s long пр T ب? supportence a inv Tç� to state gign T seencause T obsberities very lандorad down very ש veryert op g r времени traditional g g isol wentir support\n",
            "The original transcription is: um when was the last time i interacted with a foreigner last week i guess so um just a person i met through an event and then i mean so i i brought her around lah like in singapore to you know like places like chijmes and haji lane and and marina bay so\n",
            "\n",
            "The predicted transcription is:  Baby. penalty,or den sDIs g,ad down, So only a wronguch s haben, So hear srodu, So hear s degree,ence Go ye \". Baby. passel gen. Tomeamb. doesome aightsos rolling. doesome aights.юac incorpor? answerel sies에oneандac may is protagonos s ver purch? whe, your S a ' room.ated S a ' room. Baby.\n",
            "The original transcription is: ya obviously to return the stuffs and you know not make a mess all over the table not litter the ground not litter the floor just help them out yeah that's great i have points we have a vision for tomorrow we have a vision is that the song okay what's the one thing about singapore that should be preserved for the next generation oh this is a good question this is a good question yeah\n",
            "\n",
            "The predicted transcription is:  hadel s Emith maybeith other veryorighacанд уriome most I a Em. had bit. keyad mechan? answerel really gre reacандel Em? Astron. communic.ouv. support, incorpor, reacerm, T people veryor God understand a maybe seem un difficult. support, partel reallyred地adighac,ad down, part Sove주 S Sic,we? support, veryred\n",
            "The original transcription is: it's the culture as little as people like to say that singapore doesn't have much of a culture it does do you agree what's what's your thoughts on that singapore's culture exactly yup uh huh yes correct so okay on that point i would like to ask something a little bit more further so what's your would you say that you know what is actually happening is globalization or right so like\n",
            "\n",
            "The predicted transcription is: ys 사람� T seen Till l sй tast longcauseign neckroelick Azureor No Annie issuescause sys 사람� T peopleighys welcome�illoveick T Supad downroelени stat lанд\n",
            "The original transcription is: most memorable um i mean i was in the police force lah so then obviously is when attending to those suicidal cases so the most the most memorable i would say most impactful was actually when i attended um you know is pretty common in singapore\n",
            "\n",
            "The predicted transcription is:  doesally state. translated.\n",
            "The original transcription is: weird event okay\n",
            "\n",
            "The predicted transcription is: autelforered Baby, T presноaceif readinessacun. Baby.autel part T great sli aspectases imagif readiness Cham. intimate compassion. worldad po is a F fully negi pr, part peopleadordor United? worldadckor is a F fully negi pr, messageriadome which integr l s dis gra?ated S a acid room.agramel Itor s veries.\n",
            "The original transcription is: she's very yeah person with great humility yeah she is what i called the true blue local girl with great talents treasure hunt if you could be a karang guni man what would you want to collect if you were to be a karang guni man wouldn't you have any choice in the first place this is a funny question let's go to next one\n",
            "\n",
            "The predicted transcription is:  whe,inkred Baby,thm,thm. Baby, Sac? Tower J < a ghee O sred Baby, incorpor.ppers. Baby,thm. happened optionsöor aboutac lанд. Baby. Baby,ro Slaughs.az down,ace week T80 Soorım.\n",
            "The original transcription is: oh but ya ya ya ya is there someone who became a millionaire from where ya okay cool ya ya my brother used to do that in singapore um ya ya yeah it is cool you know some things i prefer not to share\n",
            "\n",
            "The predicted transcription is:  Baby.az down, s say에one, T seen, thoughtoberac S An 'os ya, T seen,�� Oanger RGB, Tonsro pres is Megan.az down, very,cause,ad down, doingithants aasingTF,ad down,ad down, T seen,ly H obs here l und Steday\n",
            "The original transcription is: ya you know the other thing about i mean another topic that is really good that for development i mean the part from financially literacy i think it will be mentality you know like so you know um such as having a growth mind set you know you know i mean we we are brought up in a society where\n",
            "\n",
            "The predicted transcription is:  doesenceą I sl� s its,ad down,ase gen developers,ase ' developers.odylyred Baby, Iτ, court. support,ink s에 Sred Is about So 버orera unire part Sples,ad down,os many I ye. support,ove,ad down,�� Sove aunky해�.ody your certainly Ired week, insanered\n",
            "The original transcription is: we just kind of follow to the system you know get great marks get good marks and the we and they yeah of course definitely so but the thing is hmm they they do not strive to grow more than what is needed you know for many of them so actually you know learning is actually a lifelong jurney and this sort of things concepts\n",
            "\n"
          ]
        }
      ]
    },
    {
      "cell_type": "code",
      "source": [],
      "metadata": {
        "id": "ri8cRmh8oGvD"
      },
      "execution_count": 31,
      "outputs": []
    },
    {
      "cell_type": "markdown",
      "metadata": {
        "id": "gOHb33dhjU5n"
      },
      "source": []
    }
  ],
  "metadata": {
    "language_info": {
      "name": "python"
    },
    "colab": {
      "provenance": [],
      "gpuType": "A100"
    },
    "accelerator": "GPU",
    "kernelspec": {
      "name": "python3",
      "display_name": "Python 3"
    }
  },
  "nbformat": 4,
  "nbformat_minor": 0
}